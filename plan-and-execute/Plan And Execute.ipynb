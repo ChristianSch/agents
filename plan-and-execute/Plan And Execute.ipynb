{
 "cells": [
  {
   "cell_type": "markdown",
   "id": "347f5e4c",
   "metadata": {},
   "source": [
    "# Plan and Execute Agent\n",
    "\n",
    "Based on: https://github.com/langchain-ai/langgraph/blob/main/examples/plan-and-execute/plan-and-execute.ipynb"
   ]
  },
  {
   "cell_type": "code",
   "execution_count": 4,
   "id": "ddff8da1",
   "metadata": {},
   "outputs": [],
   "source": [
    "from dotenv import load_dotenv"
   ]
  },
  {
   "cell_type": "code",
   "execution_count": 5,
   "id": "05603d57",
   "metadata": {},
   "outputs": [
    {
     "data": {
      "text/plain": [
       "True"
      ]
     },
     "execution_count": 5,
     "metadata": {},
     "output_type": "execute_result"
    }
   ],
   "source": [
    "load_dotenv('../.env')"
   ]
  },
  {
   "cell_type": "code",
   "execution_count": 24,
   "id": "c7743648",
   "metadata": {},
   "outputs": [],
   "source": [
    "from langchain_community.tools.tavily_search import TavilySearchResults\n",
    "from langchain import hub\n",
    "from langchain.agents import create_openai_functions_agent\n",
    "from langchain_openai import ChatOpenAI\n",
    "from langgraph.prebuilt import create_agent_executor\n",
    "from langchain_core.pydantic_v1 import BaseModel, Field\n",
    "from typing import List, Tuple, Annotated, TypedDict\n",
    "from langchain_core.pydantic_v1 import BaseModel\n",
    "from langchain.chains.openai_functions import create_structured_output_runnable\n",
    "from langchain_core.prompts import ChatPromptTemplate\n",
    "import operator\n",
    "from langchain.chains.openai_functions import create_openai_fn_runnable\n",
    "from langgraph.graph import StateGraph, END\n",
    "from langchain_core.messages import HumanMessage"
   ]
  },
  {
   "cell_type": "markdown",
   "id": "59786ddd-f9b1-4e8a-b73b-8fb32cddb221",
   "metadata": {},
   "source": [
    "# Step 1: Tools and execution agent"
   ]
  },
  {
   "cell_type": "code",
   "execution_count": 8,
   "id": "fbcc9985-40d1-4c40-a621-2a1b09d739b4",
   "metadata": {},
   "outputs": [],
   "source": [
    "tools = [TavilySearchResults(max_results=3)]"
   ]
  },
  {
   "cell_type": "code",
   "execution_count": 9,
   "id": "481d8423-6b7b-4379-8e43-1bcda85adb54",
   "metadata": {},
   "outputs": [],
   "source": [
    "# Get the prompt to use - you can modify this!\n",
    "prompt = hub.pull(\"hwchase17/openai-functions-agent\")\n",
    "# Choose the LLM that will drive the agent\n",
    "llm = ChatOpenAI(model=\"gpt-4-turbo-preview\")\n",
    "# Construct the OpenAI Functions agent\n",
    "agent_runnable = create_openai_functions_agent(llm, tools, prompt)"
   ]
  },
  {
   "cell_type": "code",
   "execution_count": 10,
   "id": "f5632fe1-d1ee-44f9-a320-f45fd270c306",
   "metadata": {},
   "outputs": [],
   "source": [
    "agent_executor = create_agent_executor(agent_runnable, tools)"
   ]
  },
  {
   "cell_type": "code",
   "execution_count": 11,
   "id": "a6a4bb52-5b4c-493b-b016-550b4e52a7f6",
   "metadata": {},
   "outputs": [
    {
     "data": {
      "text/plain": [
       "{'input': 'who is the winnner of the us open',\n",
       " 'chat_history': [],\n",
       " 'agent_outcome': AgentFinish(return_values={'output': \"The winner of the 2023 US Open men's singles is Novak Djokovic. He won his 24th Grand Slam singles title by defeating Daniil Medvedev with a score of 6-3, 7-6(5), 6-3 in the final. This victory ties Margaret Court's record and bolsters Djokovic's case to be considered the greatest tennis player of all time.\"}, log=\"The winner of the 2023 US Open men's singles is Novak Djokovic. He won his 24th Grand Slam singles title by defeating Daniil Medvedev with a score of 6-3, 7-6(5), 6-3 in the final. This victory ties Margaret Court's record and bolsters Djokovic's case to be considered the greatest tennis player of all time.\"),\n",
       " 'intermediate_steps': [(AgentActionMessageLog(tool='tavily_search_results_json', tool_input={'query': 'US Open 2023 winner'}, log=\"\\nInvoking: `tavily_search_results_json` with `{'query': 'US Open 2023 winner'}`\\n\\n\\n\", message_log=[AIMessage(content='', additional_kwargs={'function_call': {'arguments': '{\"query\":\"US Open 2023 winner\"}', 'name': 'tavily_search_results_json'}}, response_metadata={'token_usage': {'completion_tokens': 23, 'prompt_tokens': 97, 'total_tokens': 120}, 'model_name': 'gpt-4-turbo-preview', 'system_fingerprint': 'fp_32a9394532', 'finish_reason': 'function_call', 'logprobs': None}, id='run-bacd7219-d007-4381-84c2-b976a65c12a4-0')]),\n",
       "   '[{\\'url\\': \\'https://www.bbc.com/sport/tennis/66766337\\', \\'content\\': \": Stephen Nolan goes in to find out\\\\nRelated Topics\\\\nTop Stories\\\\nTen Hag on Rashford plus transfer news, WSL deadline day\\\\nSpinner Leach doubtful for second Test in India\\\\nMcIlroy \\'changes tune\\' on LIV players\\' punishment\\\\nElsewhere on the BBC\\\\nDiscover the tropical paradise of Thailand\\\\nFrom the secrets of the South to the mysterious North...\\\\n Djokovic offered to help up Medvedev when the Russian fell to the court in the third set\\\\nDjokovic\\'s relentless returning continued to draw mistakes out of Medvedev, who was serving poorly and making loose errors, at the start of the second set.\\\\n It was clear to see Medvedev had needed to level by taking that second set to stand any real chance of victory and the feeling of the inevitable was heightened by the Russian needing treatment on a shoulder injury before the third set.\\\\n Djokovic shows again why he can never be written off\\\\nWhen Djokovic lost to 20-year-old Carlos Alcaraz in the Wimbledon final it felt like a changing-of-the-guard moment in the men\\'s game.\\\\n The inside story of Putin’s invasion of Ukraine\\\\nTold by the Presidents and Prime Ministers tasked with making the critical decisions\\\\nSurvival of the wittiest!\\\\n\"}, {\\'url\\': \\'https://www.usopen.org/en_US/news/articles/2023-09-10/novak_djokovic_wins_24th_grand_slam_singles_title_at_2023_us_open.html\\', \\'content\\': \"WHAT HAPPENED: Novak Djokovic handled the weight of history to defeat Daniil Medvedev on Sunday in the 2023 US Open men\\'s singles final. With a 6-3, 7-6(5), 6-3 victory, the 36-year-old won his 24th Grand Slam singles title, tying Margaret Court\\'s record and bolstering his case to be considered the greatest tennis player of all time.\"}, {\\'url\\': \\'https://apnews.com/article/us-open-final-live-updates-djokovic-medvedev-8a4a26f8d77ef9ab2fb3efe1096dce7e\\', \\'content\\': \\'Novak Djokovic wins the US Open for his 24th Grand Slam title by beating Daniil Medvedev\\\\nNovak Djokovic, of Serbia, holds up the championship trophy after defeating Daniil Medvedev, of Russia, in the men’s singles final of the U.S. Open tennis championships, Sunday, Sept. 10, 2023, in New York. (AP Photo/Manu Fernandez)\\\\nDaniil Medvedev, of Russia, sits on the court after a rally against Novak Djokovic, of Serbia, during the men’s singles final of the U.S. Open tennis championships, Sunday, Sept. 10, 2023, in New York. (AP Photo/Manu Fernandez)\\\\nDaniil Medvedev, of Russia, sits on the court after a rally against Novak Djokovic, of Serbia, during the men’s singles final of the U.S. Open tennis championships, Sunday, Sept. 10, 2023, in New York. (AP Photo/Manu Fernandez)\\\\nDaniil Medvedev, of Russia, sits on the court after a rally against Novak Djokovic, of Serbia, during the men’s singles final of the U.S. Open tennis championships, Sunday, Sept. 10, 2023, in New York. Novak Djokovic, of Serbia, reveals a t-shirt honoring the number 24 and Kobe Bryant after defeating Daniil Medvedev, of Russia, in the men’s singles final of the U.S. Open tennis championships, Sunday, Sept. 10, 2023, in New York.\\'}]')]}"
      ]
     },
     "execution_count": 11,
     "metadata": {},
     "output_type": "execute_result"
    }
   ],
   "source": [
    "agent_executor.invoke(\n",
    "    {\"input\": \"who is the winnner of the us open\", \"chat_history\": []}\n",
    ")"
   ]
  },
  {
   "cell_type": "markdown",
   "id": "91bfc5e3-6762-4cfb-8038-96b02fc6f6bf",
   "metadata": {},
   "source": [
    "## Step 2: Planning"
   ]
  },
  {
   "cell_type": "code",
   "execution_count": 12,
   "id": "41de3f71-8d42-40a4-94bc-e3e069ca0bb4",
   "metadata": {},
   "outputs": [],
   "source": [
    "# holds state: past steps are a tuple of step:result. response is the final response\n",
    "class PlanExecute(TypedDict):\n",
    "    input: str\n",
    "    plan: List[str]\n",
    "    past_steps: Annotated[List[Tuple], operator.add]\n",
    "    response: str"
   ]
  },
  {
   "cell_type": "code",
   "execution_count": 14,
   "id": "2265283a-325c-4cfd-bbf0-66369aa02dac",
   "metadata": {},
   "outputs": [],
   "source": [
    "class Plan(BaseModel):\n",
    "    \"\"\"Plan to follow in future\"\"\"\n",
    "\n",
    "    steps: List[str] = Field(\n",
    "        description=\"different steps to follow, should be in sorted order\"\n",
    "    )"
   ]
  },
  {
   "cell_type": "markdown",
   "id": "7a94a7d7-436c-4069-a9ac-e1d338906d70",
   "metadata": {},
   "source": [
    "The planner is another agent."
   ]
  },
  {
   "cell_type": "code",
   "execution_count": 16,
   "id": "8ca6dc50-e60f-441a-9724-e9409aa2a4a9",
   "metadata": {},
   "outputs": [],
   "source": [
    "planner_prompt = ChatPromptTemplate.from_template(\n",
    "    \"\"\"For the given objective, come up with a simple step by step plan. \\\n",
    "This plan should involve individual tasks, that if executed correctly will yield the correct answer. Do not add any superfluous steps. \\\n",
    "The result of the final step should be the final answer. Make sure that each step has all the information needed - do not skip steps.\n",
    "\n",
    "{objective}\"\"\"\n",
    ")\n",
    "planner = create_structured_output_runnable(\n",
    "    Plan, ChatOpenAI(model=\"gpt-4-turbo-preview\", temperature=0), planner_prompt\n",
    ")"
   ]
  },
  {
   "cell_type": "code",
   "execution_count": 17,
   "id": "0d482196-1aa2-432d-b569-6935e0c9cb25",
   "metadata": {},
   "outputs": [
    {
     "data": {
      "text/plain": [
       "Plan(steps=['Identify the current year to determine the most recent Australia Open tournament.', \"Search for the winner of the most recent Australia Open in either the men's or women's singles category.\", 'Find the birthplace or the commonly known hometown of the identified winner.', 'The hometown of the current Australia Open winner is the answer.'])"
      ]
     },
     "execution_count": 17,
     "metadata": {},
     "output_type": "execute_result"
    }
   ],
   "source": [
    "planner.invoke(\n",
    "    {\"objective\": \"what is the hometown of the current Australia open winner?\"}\n",
    ")"
   ]
  },
  {
   "cell_type": "markdown",
   "id": "2cf20786-5b98-4ab6-a8e1-56f33ba69915",
   "metadata": {},
   "source": [
    "## Re-Plan Step"
   ]
  },
  {
   "cell_type": "code",
   "execution_count": 19,
   "id": "7b56d67c-451b-4bb1-857b-9a7b00c7a49c",
   "metadata": {},
   "outputs": [],
   "source": [
    "# replanner is yet another agent that re-does the plan based on the result of the previous step\n",
    "class Response(BaseModel):\n",
    "    \"\"\"Response to user.\"\"\"\n",
    "\n",
    "    response: str"
   ]
  },
  {
   "cell_type": "code",
   "execution_count": 20,
   "id": "6dda8444-21c0-4adf-b972-c6cf6f3b4fc5",
   "metadata": {},
   "outputs": [],
   "source": [
    "replanner_prompt = ChatPromptTemplate.from_template(\n",
    "    \"\"\"For the given objective, come up with a simple step by step plan. \\\n",
    "This plan should involve individual tasks, that if executed correctly will yield the correct answer. Do not add any superfluous steps. \\\n",
    "The result of the final step should be the final answer. Make sure that each step has all the information needed - do not skip steps.\n",
    "\n",
    "Your objective was this:\n",
    "{input}\n",
    "\n",
    "Your original plan was this:\n",
    "{plan}\n",
    "\n",
    "You have currently done the follow steps:\n",
    "{past_steps}\n",
    "\n",
    "Update your plan accordingly. If no more steps are needed and you can return to the user, then respond with that. Otherwise, fill out the plan. Only add steps to the plan that still NEED to be done. Do not return previously done steps as part of the plan.\"\"\"\n",
    ")\n",
    "\n",
    "\n",
    "replanner = create_openai_fn_runnable(\n",
    "    [Plan, Response],\n",
    "    ChatOpenAI(model=\"gpt-4-turbo-preview\", temperature=0),\n",
    "    replanner_prompt,\n",
    ")"
   ]
  },
  {
   "cell_type": "markdown",
   "id": "96852de8-f9d9-4a4c-8cc9-ea7e95de8f71",
   "metadata": {},
   "source": [
    "# The final graph"
   ]
  },
  {
   "cell_type": "code",
   "execution_count": 23,
   "id": "4f110df8-0576-4b39-802b-b3cc51575141",
   "metadata": {},
   "outputs": [],
   "source": [
    "async def execute_step(state: PlanExecute):\n",
    "    task = state[\"plan\"][0]\n",
    "    agent_response = await agent_executor.ainvoke({\"input\": task, \"chat_history\": []})\n",
    "    return {\n",
    "        \"past_steps\": (task, agent_response[\"agent_outcome\"].return_values[\"output\"])\n",
    "    }\n",
    "\n",
    "\n",
    "async def plan_step(state: PlanExecute):\n",
    "    plan = await planner.ainvoke({\"objective\": state[\"input\"]})\n",
    "    return {\"plan\": plan.steps}\n",
    "\n",
    "\n",
    "async def replan_step(state: PlanExecute):\n",
    "    output = await replanner.ainvoke(state)\n",
    "    if isinstance(output, Response):\n",
    "        return {\"response\": output.response}\n",
    "    else:\n",
    "        return {\"plan\": output.steps}\n",
    "\n",
    "\n",
    "def should_end(state: PlanExecute):\n",
    "    if \"response\" in state and state[\"response\"]:\n",
    "        return True\n",
    "    else:\n",
    "        return False"
   ]
  },
  {
   "cell_type": "code",
   "execution_count": 25,
   "id": "7fbec645-5255-4962-a58c-9119823cd421",
   "metadata": {},
   "outputs": [],
   "source": [
    "# the final graph glues together the agents and the state\n",
    "\n",
    "workflow = StateGraph(PlanExecute)\n",
    "\n",
    "# Add the plan node\n",
    "workflow.add_node(\"planner\", plan_step)\n",
    "\n",
    "# Add the execution step\n",
    "workflow.add_node(\"agent\", execute_step)\n",
    "\n",
    "# Add a replan node\n",
    "workflow.add_node(\"replan\", replan_step)\n",
    "\n",
    "workflow.set_entry_point(\"planner\")\n",
    "\n",
    "# From plan we go to agent\n",
    "workflow.add_edge(\"planner\", \"agent\")\n",
    "\n",
    "# From agent, we replan\n",
    "workflow.add_edge(\"agent\", \"replan\")\n",
    "\n",
    "workflow.add_conditional_edges(\n",
    "    \"replan\",\n",
    "    # Next, we pass in the function that will determine which node is called next.\n",
    "    should_end,\n",
    "    {\n",
    "        # If `tools`, then we call the tool node.\n",
    "        True: END,\n",
    "        False: \"agent\",\n",
    "    },\n",
    ")\n",
    "\n",
    "# Finally, we compile it!\n",
    "# This compiles it into a LangChain Runnable,\n",
    "# meaning you can use it as you would any other runnable\n",
    "app = workflow.compile()"
   ]
  },
  {
   "cell_type": "code",
   "execution_count": 26,
   "id": "f25b0eb7-366d-4e47-b890-9e544c3898e9",
   "metadata": {},
   "outputs": [
    {
     "name": "stdout",
     "output_type": "stream",
     "text": [
      "{'plan': ['Wait until the 2024 Australian Open concludes.', 'Identify the winner of the 2024 Australian Open.', \"Research the winner's biography to find their hometown.\"]}\n",
      "{'past_steps': ('Wait until the 2024 Australian Open concludes.', \"I'm here to help with information, but I can't wait in real-time or provide updates after the conclusion of the 2024 Australian Open. However, I can help you find information on how to follow the event or provide details and historical context about the tournament. Let me know how I can assist you further!\")}\n",
      "{'plan': ['Identify the winner of the 2024 Australian Open.', \"Research the winner's biography to find their hometown.\"]}\n",
      "{'past_steps': ('Identify the winner of the 2024 Australian Open.', \"The winner of the 2024 Australian Open men's singles title is Jannik Sinner. He won his first ever Grand Slam title by defeating Daniil Medvedev in the final with scores of 3-6, 3-6, 6-4, 6-4, 6-3.\")}\n",
      "{'plan': [\"Research Jannik Sinner's biography to find his hometown.\"]}\n",
      "{'past_steps': (\"Research Jannik Sinner's biography to find his hometown.\", \"Jannik Sinner's biography does not explicitly mention his hometown in the provided excerpts. However, additional information can be found easily by consulting other sources or his official profiles on sports and tennis-related websites.\")}\n",
      "{'plan': [\"Search for Jannik Sinner's official ATP profile or Wikipedia page to find his hometown.\", \"Report Jannik Sinner's hometown as the answer.\"]}\n",
      "{'past_steps': (\"Search for Jannik Sinner's official ATP profile or Wikipedia page to find his hometown.\", \"Jannik Sinner's official ATP profile and Wikipedia page did not directly mention his hometown in the snippets provided. However, you can find detailed information about his career, achievements, and background by visiting his [Wikipedia page](https://en.wikipedia.org/wiki/Jannik_Sinner) or his [ATP profile](https://www.atptour.com/en/players/jannik-sinner/s0ag/overview).\")}\n",
      "{'plan': [\"Visit Jannik Sinner's Wikipedia page or ATP profile via the provided links.\", \"Find the section detailing Jannik Sinner's personal information or early life to locate his hometown.\", \"Report Jannik Sinner's hometown as the answer.\"]}\n",
      "{'past_steps': (\"Visit Jannik Sinner's Wikipedia page or ATP profile via the provided links.\", \"I can't visit websites or click on links, but I can help answer questions or provide information about Jannik Sinner. What would you like to know?\")}\n",
      "{'plan': [\"Find the section detailing Jannik Sinner's personal information or early life on his Wikipedia page or ATP profile.\", \"Report Jannik Sinner's hometown as the answer.\"]}\n",
      "{'past_steps': (\"Find the section detailing Jannik Sinner's personal information or early life on his Wikipedia page or ATP profile.\", \"Jannik Sinner's personal information or early life is not directly provided in the content snippets from the search results. However, you can learn more about Jannik Sinner, including his personal and professional background, by visiting his [Wikipedia page](https://en.wikipedia.org/wiki/Jannik_Sinner) or his [ATP bio](https://www.atptour.com/en/players/jannik-sinner/s0ag/bio). These sources will have detailed sections on his early life, career highlights, and personal interests.\")}\n",
      "{'plan': [\"Consult Jannik Sinner's Wikipedia page or ATP profile to find the section on his early life or personal information.\", \"Identify Jannik Sinner's hometown from the early life or personal information section.\", \"Report Jannik Sinner's hometown as the answer.\"]}\n",
      "{'past_steps': (\"Consult Jannik Sinner's Wikipedia page or ATP profile to find the section on his early life or personal information.\", \"Jannik Sinner's early life and personal information can be explored in detail on his [Wikipedia page](https://en.wikipedia.org/wiki/Jannik_Sinner). However, the provided excerpt does not include specific details about his early life or personal background. For comprehensive information, including his early years, background, and personal life, I recommend visiting the Wikipedia link directly. This will give you full access to a detailed account of his upbringing, his start in tennis, and other personal anecdotes that have shaped him into the athlete he is today.\")}\n",
      "{'plan': [\"Identify Jannik Sinner's hometown from the early life or personal information section on his Wikipedia page.\", \"Report Jannik Sinner's hometown as the answer.\"]}\n",
      "{'past_steps': (\"Identify Jannik Sinner's hometown from the early life or personal information section on his Wikipedia page.\", \"Jannik Sinner's Wikipedia page does not directly provide the information regarding his hometown in the snippets available from the search. However, based on my prior knowledge, Jannik Sinner's hometown is San Candido (Innichen in German), which is in the South Tyrol region of Northern Italy. This area is known for its bilingual population, speaking both Italian and German.\")}\n",
      "{'plan': [\"Report Jannik Sinner's hometown as the answer.\"]}\n",
      "{'past_steps': (\"Report Jannik Sinner's hometown as the answer.\", \"Jannik Sinner's hometown is San Candido, Italy.\")}\n",
      "{'response': \"Jannik Sinner's hometown is San Candido, Italy.\"}\n"
     ]
    }
   ],
   "source": [
    "config = {\"recursion_limit\": 50}\n",
    "inputs = {\"input\": \"what is the hometown of the 2024 Australia open winner?\"}\n",
    "async for event in app.astream(inputs, config=config):\n",
    "    for k, v in event.items():\n",
    "        if k != \"__end__\":\n",
    "            print(v)\n"
   ]
  },
  {
   "cell_type": "code",
   "execution_count": null,
   "id": "f968367c-b80f-4bbb-a87a-372f63528471",
   "metadata": {},
   "outputs": [],
   "source": []
  }
 ],
 "metadata": {
  "kernelspec": {
   "display_name": "Python [conda env:assistant] *",
   "language": "python",
   "name": "conda-env-assistant-py"
  },
  "language_info": {
   "codemirror_mode": {
    "name": "ipython",
    "version": 3
   },
   "file_extension": ".py",
   "mimetype": "text/x-python",
   "name": "python",
   "nbconvert_exporter": "python",
   "pygments_lexer": "ipython3",
   "version": "3.11.5"
  }
 },
 "nbformat": 4,
 "nbformat_minor": 5
}
